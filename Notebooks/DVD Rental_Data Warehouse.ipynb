{
 "cells": [
  {
   "cell_type": "markdown",
   "id": "9e4047c1",
   "metadata": {},
   "source": [
    "## Create the DVD Rental Database"
   ]
  },
  {
   "cell_type": "code",
   "execution_count": 1,
   "id": "738910a7",
   "metadata": {},
   "outputs": [
    {
     "name": "stdout",
     "output_type": "stream",
     "text": [
      "Requirement already satisfied: psycopg2-binary in /usr/local/lib/python3.8/dist-packages (2.9.9)\n",
      "\u001b[33mWARNING: You are using pip version 21.0.1; however, version 23.3.2 is available.\n",
      "You should consider upgrading via the '/usr/bin/python3 -m pip install --upgrade pip' command.\u001b[0m\n"
     ]
    }
   ],
   "source": [
    "!pip install psycopg2-binary"
   ]
  },
  {
   "cell_type": "code",
   "execution_count": 2,
   "id": "a28459b2",
   "metadata": {},
   "outputs": [],
   "source": [
    "import psycopg2\n",
    "import pandas as pd\n",
    "import os # Import the os module for working with file paths"
   ]
  },
  {
   "cell_type": "code",
   "execution_count": 3,
   "id": "09f41d02",
   "metadata": {},
   "outputs": [],
   "source": [
    "# Get the current directory where your notebook is located\n",
    "current_directory = os.getcwd()"
   ]
  },
  {
   "cell_type": "code",
   "execution_count": 4,
   "id": "62fcc001",
   "metadata": {},
   "outputs": [
    {
     "name": "stdout",
     "output_type": "stream",
     "text": [
      "/src/notebooks\n"
     ]
    }
   ],
   "source": [
    "print(current_directory)"
   ]
  },
  {
   "cell_type": "code",
   "execution_count": 5,
   "id": "ba6c1777",
   "metadata": {
    "scrolled": true
   },
   "outputs": [
    {
     "name": "stdout",
     "output_type": "stream",
     "text": [
      "'DVD Rental_Data Warehouse.ipynb'   DataSet\r\n",
      "'Data Model.ipynb'\t\t   'Wealth_Account Data Model.ipynb'\r\n"
     ]
    }
   ],
   "source": [
    "!ls"
   ]
  },
  {
   "cell_type": "code",
   "execution_count": 8,
   "id": "2a6e8588",
   "metadata": {},
   "outputs": [
    {
     "name": "stdout",
     "output_type": "stream",
     "text": [
      "/usr/bin/sh: 1: docker: not found\r\n"
     ]
    }
   ],
   "source": [
    "!docker exec -it postgres_pgadmin_postgres_1 bash"
   ]
  },
  {
   "cell_type": "code",
   "execution_count": 7,
   "id": "155815b8",
   "metadata": {},
   "outputs": [
    {
     "name": "stdout",
     "output_type": "stream",
     "text": [
      "/usr/bin/sh: 1: psql: not found\r\n"
     ]
    }
   ],
   "source": [
    "!psql -U"
   ]
  },
  {
   "cell_type": "code",
   "execution_count": null,
   "id": "05fa62ce",
   "metadata": {},
   "outputs": [],
   "source": []
  }
 ],
 "metadata": {
  "kernelspec": {
   "display_name": "Python 3",
   "language": "python",
   "name": "python3"
  },
  "language_info": {
   "codemirror_mode": {
    "name": "ipython",
    "version": 3
   },
   "file_extension": ".py",
   "mimetype": "text/x-python",
   "name": "python",
   "nbconvert_exporter": "python",
   "pygments_lexer": "ipython3",
   "version": "3.8.5"
  }
 },
 "nbformat": 4,
 "nbformat_minor": 5
}
